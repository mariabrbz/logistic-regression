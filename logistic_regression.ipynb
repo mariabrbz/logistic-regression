{
 "cells": [
  {
   "cell_type": "markdown",
   "metadata": {},
   "source": [
    "# Logistic Regression: Image Recognition\n",
    "## Binary classification: cat or not a cat?"
   ]
  },
  {
   "cell_type": "markdown",
   "metadata": {},
   "source": [
    "A logistic regression inspired by the Neural Networks and Deep Learning course (https://www.coursera.org/learn/neural-networks-deep-learning/). Data set from https://www.kaggle.com/mriganksingh/cat-images-dataset. The purpose of this project is to create an image-recognition algorithm that can identify whether an image contains a cat or not using logistic regression."
   ]
  },
  {
   "cell_type": "code",
   "execution_count": 1,
   "metadata": {},
   "outputs": [],
   "source": [
    "import numpy as np\n",
    "import matplotlib.pyplot as plt\n",
    "import h5py\n",
    "import scipy\n",
    "import os\n",
    "\n",
    "%matplotlib inline"
   ]
  },
  {
   "cell_type": "markdown",
   "metadata": {},
   "source": [
    "### 1. Load and modify data"
   ]
  },
  {
   "cell_type": "markdown",
   "metadata": {},
   "source": [
    "The function load_dataset() loads the data and modifies it so that both the features ($x$) and results ($y$) are well-formatted. Initially, train_set_x and test_set_x are both of shape (sample_size, img_size, img_size, $3$), where img_size is the width (and the height) of each picture in the data set and $3$ represents the RGB channels. For convenience of having a matrix $X$ of features, we transform each example (image) in initial_train_set_x and initial_test_set_x into a column vector $X_i$ of shape $(1, img\\_size \\times img\\_size \\times 3)$. To standarize the image data, we divide P by $255$, the maximum pixel value. We also modify test_set_y and train_set_y to be column vectors.\n",
    "<br/>\n",
    "\n",
    "$X_i = \\begin{bmatrix}R_1\\\\R_2\\\\.\\\\.\\\\R_{img\\_size}\\\\G_1\\\\.\\\\.\\\\B_{img\\_size}\\end{bmatrix}$\n",
    "$\\qquad X = \\begin{bmatrix}X_1&X_2&.&.&.&X_{sample\\_size}\\end{bmatrix}$\n",
    "$\\qquad Y = \\begin{bmatrix}y_1\\\\y_2\\\\.\\\\.\\\\.\\\\y_{sample\\_size}\\end{bmatrix}$"
   ]
  },
  {
   "cell_type": "code",
   "execution_count": 126,
   "metadata": {},
   "outputs": [],
   "source": [
    "# Loading and modifying the data\n",
    "def load_dataset():\n",
    "    train_dataset = h5py.File('train_catvnoncat.h5', \"r\")\n",
    "    initial_train_set_x = np.array(train_dataset[\"train_set_x\"][:])  \n",
    "    train_set_y = np.array(train_dataset[\"train_set_y\"][:])\n",
    "\n",
    "    test_dataset = h5py.File('test_catvnoncat.h5', \"r\")\n",
    "    initial_test_set_x = np.array(test_dataset[\"test_set_x\"][:])       \n",
    "    test_set_y = np.array(test_dataset[\"test_set_y\"][:])\n",
    "\n",
    "    train_set_x = initial_train_set_x.reshape(initial_train_set_x.shape[0], -1).T / 255\n",
    "    test_set_x = initial_test_set_x.reshape(initial_test_set_x.shape[0], -1).T / 255\n",
    "    train_set_y = train_set_y.reshape((1, train_set_y.shape[0])) \n",
    "    test_set_y = test_set_y.reshape((1, test_set_y.shape[0])) \n",
    "    \n",
    "    return initial_test_set_x, initial_train_set_x, train_set_x, train_set_y, test_set_x, test_set_y\n",
    "\n",
    "initial_test_set_x, initial_train_set_x, train_set_x, train_set_y, test_set_x, test_set_y = load_dataset()"
   ]
  },
  {
   "cell_type": "code",
   "execution_count": 127,
   "metadata": {},
   "outputs": [
    {
     "name": "stdout",
     "output_type": "stream",
     "text": [
      "train set examples: 209\n",
      "test set examples: 50\n",
      "image height/width: 64\n",
      "\n",
      "shape of initial train set x: (209, 64, 64, 3)\n",
      "expected shape of train set x: (12288, 209)\n",
      "shape of train set x:(12288, 209)\n",
      "\n",
      "shape of initial test set x: (50, 64, 64, 3)\n",
      "expected shape of test set x: (12288, 50)\n",
      "shape of test set x: (12288, 50)\n",
      "\n",
      "shape of train set y: (1, 209)\n",
      "shape of test set y: (1, 50)\n"
     ]
    }
   ],
   "source": [
    "# Testing data modifications\n",
    "m_train = initial_train_set_x.shape[0]      #number of examples in train set\n",
    "m_test = initial_test_set_x.shape[0]        #number of examples in test set\n",
    "img_size = initial_train_set_x.shape[1]     #image width = image height\n",
    "\n",
    "print(\"train set examples: \" + str(m_train))\n",
    "print(\"test set examples: \" + str(m_test))\n",
    "print(\"image height/width: \" + str(img_size) + \"\\n\")\n",
    "print(\"shape of initial train set x: \" + str(initial_train_set_x.shape))\n",
    "print(\"expected shape of train set x: \" + \"(\" + str(img_size*img_size*3) + \", \" + str(m_train) + \")\")\n",
    "print(\"shape of train set x:\" + str(train_set_x.shape) + \"\\n\")\n",
    "print(\"shape of initial test set x: \" + str(initial_test_set_x.shape))\n",
    "print(\"expected shape of test set x: \" + \"(\" + str(img_size*img_size*3) + \", \" + str(m_test) + \")\")\n",
    "print(\"shape of test set x: \" + str(test_set_x.shape) + \"\\n\")\n",
    "print(\"shape of train set y: \" + str(train_set_y.shape))\n",
    "print(\"shape of test set y: \" + str(test_set_y.shape))"
   ]
  },
  {
   "cell_type": "markdown",
   "metadata": {},
   "source": [
    "### 2. Model"
   ]
  },
  {
   "cell_type": "markdown",
   "metadata": {},
   "source": [
    "Given $X_i, Y_i$ as defined above, with $i \\in \\{1, ..., m\\}, m = 209$, then, for every $i$, we define the mathematical model for the logistic regression as follows:\n",
    "Let $Z_i = w^TX_i + b$ where $w \\in \\mathbb{R}^{12288}$ and $b \\in \\mathbb{R}$. Let $A_i$ be the approximation of $Y_i$, $A_i = \\sigma (Z_i)$ (where $\\sigma$ is the sigmoid function $\\sigma(x) = \\frac{1}{1 + e^{-x}}$). The loss (or the error) function $L(A_i, Y_i)$ is chosen such that $L(A_i, Y_i) = - (Y_i\\log(A_i) + (1 - Y_i)\\log(1 - A_i))$ and the cost function $J(w, b) = -\\frac{1}{m} \\sum^m_{i = 1} L(A_i, Y_i)$. The goal is to learn the parameters $w, b$ by minimizing the cost function $J$, and then use the parameters to make predictions on the test set."
   ]
  },
  {
   "cell_type": "markdown",
   "metadata": {},
   "source": [
    "### 3. Algorithm"
   ]
  },
  {
   "cell_type": "markdown",
   "metadata": {},
   "source": [
    "#### a. Auxiliary functions"
   ]
  },
  {
   "cell_type": "code",
   "execution_count": 143,
   "metadata": {},
   "outputs": [],
   "source": [
    "#sigmoid function\n",
    "def sigma(x):\n",
    "    return 1 / (1 + np.exp(-x))\n",
    "\n",
    "assert sigma(0) == 0.5\n",
    "assert sigma(5) - 0.99330715 < 10**(-5)\n",
    "\n",
    "#function that transforms label (1/0) into cat/not a cat\n",
    "def binary_to_cat(x):\n",
    "    if x:\n",
    "        return \"a cat\"\n",
    "    return \"not a cat\""
   ]
  },
  {
   "cell_type": "markdown",
   "metadata": {},
   "source": [
    "#### b. Initializing parameters w, b"
   ]
  },
  {
   "cell_type": "code",
   "execution_count": 129,
   "metadata": {},
   "outputs": [],
   "source": [
    "def initialize_param(size):\n",
    "    w = np.zeros((size, 1))\n",
    "    b = 0\n",
    "    return w, b\n",
    "\n",
    "wtest, btest = initialize_param(3)\n",
    "assert wtest.shape == (3, 1) and btest == 0"
   ]
  },
  {
   "cell_type": "markdown",
   "metadata": {},
   "source": [
    "#### c. Propagation steps"
   ]
  },
  {
   "cell_type": "markdown",
   "metadata": {},
   "source": [
    "We have to implement forward and backword propagation. <br/>\n",
    "Forward propagation:<br/>\n",
    "- compute the results after linear and activation functions ($Z, A$)\n",
    "- compute the cost function $J$\n",
    "<br/>\n",
    "\n",
    "\n",
    "Backward propagation:\n",
    "- compute gradient by calculating the partial derivatives of the cost function as follows:\n",
    "$$\\frac{\\partial J}{\\partial w} = \\frac{1}{m} X(A-Y)^T$$\n",
    "$$\\frac{\\partial J}{\\partial b} = \\frac{1}{m} \\sum^m_{i=1} (A_i - Y_i)$$"
   ]
  },
  {
   "cell_type": "code",
   "execution_count": 130,
   "metadata": {},
   "outputs": [],
   "source": [
    "def propagation(X, Y, w, b):\n",
    "    m = X.shape[1]\n",
    "    \n",
    "    #forward\n",
    "    Z = np.dot(w.T, X) + b\n",
    "    A = sigma(Z)\n",
    "    cost = - (1 / m) * (np.sum(np.dot(Y, np.log(A).T) + np.dot(1 - Y, np.log(1 - A).T)))   #transpose A for mathcing product shape purposes\n",
    "    cost = np.squeeze(cost)\n",
    "    \n",
    "    #backward\n",
    "    dw = (1 / m) * np.dot(X, (A - Y).T)\n",
    "    db = (1 / m) * np.sum(A - Y)\n",
    "    gradients = [dw, db]\n",
    "    \n",
    "    return gradients, cost"
   ]
  },
  {
   "cell_type": "code",
   "execution_count": 131,
   "metadata": {},
   "outputs": [
    {
     "name": "stdout",
     "output_type": "stream",
     "text": [
      "dw = [[ 0.99845601]\n",
      " [ 2.39507239]]\n",
      "db = 0.00145557813678\n",
      "cost = 5.80154531939\n"
     ]
    }
   ],
   "source": [
    "w, b, X, Y = np.array([[1.],[2.]]), 2., np.array([[1.,2.,-1.],[3.,4.,-3.2]]), np.array([[1,0,1]])\n",
    "grads, cost = propagation(X, Y, w, b)\n",
    "print (\"dw = \" + str(grads[0]))\n",
    "print (\"db = \" + str(grads[1]))\n",
    "print (\"cost = \" + str(cost))"
   ]
  },
  {
   "cell_type": "markdown",
   "metadata": {},
   "source": [
    "#### d. Optimize parameters"
   ]
  },
  {
   "cell_type": "markdown",
   "metadata": {},
   "source": [
    "To learn $w, b$ while minimizing the cost function $J$, we update the parameters as follows (where $\\alpha$ is the learning rate):\n",
    "$$w := w - \\alpha \\frac{\\partial J}{\\partial w}$$\n",
    "$$b := b - \\alpha \\frac{\\partial J}{\\partial b}$$"
   ]
  },
  {
   "cell_type": "code",
   "execution_count": 132,
   "metadata": {},
   "outputs": [],
   "source": [
    "def optimization(X, Y, w, b, num_iterations, alpha):\n",
    "    costs = []\n",
    "    \n",
    "    for i in range(num_iterations):\n",
    "        gradients, cost = propagation(X, Y, w, b)\n",
    "        \n",
    "        w = w - alpha * gradients[0]\n",
    "        b = b - alpha * gradients[1]\n",
    "        \n",
    "        if not i % 100:\n",
    "            costs.append(cost)\n",
    "    \n",
    "    parameters = [w, b]\n",
    "    return parameters, gradients, costs"
   ]
  },
  {
   "cell_type": "code",
   "execution_count": 133,
   "metadata": {},
   "outputs": [
    {
     "name": "stdout",
     "output_type": "stream",
     "text": [
      "w = [[ 0.19033591]\n",
      " [ 0.12259159]]\n",
      "b = 1.92535983008\n",
      "dw = [[ 0.67752042]\n",
      " [ 1.41625495]]\n",
      "db = 0.219194504541\n"
     ]
    }
   ],
   "source": [
    "params, grads, costs = optimization(X, Y, w, b, 100, 0.009)\n",
    "\n",
    "print (\"w = \" + str(params[0]))\n",
    "print (\"b = \" + str(params[1]))\n",
    "print (\"dw = \" + str(grads[0]))\n",
    "print (\"db = \" + str(grads[1]))"
   ]
  },
  {
   "cell_type": "markdown",
   "metadata": {},
   "source": [
    "#### e. Predict labels"
   ]
  },
  {
   "cell_type": "markdown",
   "metadata": {},
   "source": [
    "With the opimizied $w, b$, we can now predict $Y$ using the activation $A$. If $A_i \\leq 0.5$, $Y_i$ will be $0$ (not a cat). Else, $Y_i$ will be $1$ (cat)."
   ]
  },
  {
   "cell_type": "code",
   "execution_count": 134,
   "metadata": {},
   "outputs": [],
   "source": [
    "def prediction(X, w, b):\n",
    "    m = X.shape[1]\n",
    "    Y_prediction = np.zeros((1,m))\n",
    "    A = sigma(np.dot(w.T, X) + b)\n",
    "    \n",
    "    for i in range(A.shape[1]):\n",
    "        Y_prediction[0][i] += np.where(A[0][i] <= 0.5, 0, 1)\n",
    "    assert(Y_prediction.shape == (1, m))\n",
    "    \n",
    "    return Y_prediction"
   ]
  },
  {
   "cell_type": "code",
   "execution_count": 135,
   "metadata": {},
   "outputs": [
    {
     "name": "stdout",
     "output_type": "stream",
     "text": [
      "predictions = [[ 1.  1.  0.]]\n"
     ]
    }
   ],
   "source": [
    "w = np.array([[0.1124579],[0.23106775]])\n",
    "b = -0.3\n",
    "X = np.array([[1., -1.1, -3.2], [1.2, 2., 0.1]])\n",
    "print (\"predictions = \" + str(prediction(X, w, b)))"
   ]
  },
  {
   "cell_type": "markdown",
   "metadata": {},
   "source": [
    "### 4. Build model()"
   ]
  },
  {
   "cell_type": "markdown",
   "metadata": {},
   "source": [
    "Using all of the auxiliary functions from the previous section, we can now create a model() function that encapsulates the entire algorithm."
   ]
  },
  {
   "cell_type": "code",
   "execution_count": 140,
   "metadata": {},
   "outputs": [],
   "source": [
    "def model(X_train, Y_train, X_test, Y_test, num_iterations, alpha):\n",
    "    \n",
    "    #initialize parameters\n",
    "    w, b = initialize_param(X_train.shape[0])\n",
    "    \n",
    "    #learning w, b\n",
    "    parameters, gradients, costs = optimization(X_train, Y_train, w, b, num_iterations, alpha)\n",
    "    w = parameters[0]\n",
    "    b = parameters[1]\n",
    "    \n",
    "    #prediction\n",
    "    Y_prediction_train = prediction(X_train, w, b)\n",
    "    Y_prediction_test = prediction(X_test, w, b)\n",
    "    \n",
    "    #evaluate accuracy\n",
    "    print(\"train accuracy: {}%\".format(100 - np.mean(np.abs(Y_prediction_train - Y_train)) * 100))\n",
    "    print(\"test accuracy: {}%\".format(100 - np.mean(np.abs(Y_prediction_test - Y_test)) * 100))\n",
    "    \n",
    "    return Y_prediction_train, Y_prediction_test, w, b"
   ]
  },
  {
   "cell_type": "code",
   "execution_count": 141,
   "metadata": {},
   "outputs": [
    {
     "name": "stdout",
     "output_type": "stream",
     "text": [
      "train accuracy: 99.04306220095694%\n",
      "test accuracy: 70.0%\n"
     ]
    }
   ],
   "source": [
    "train_predicted_y, test_predicted_y, w, b = model(train_set_x, train_set_y, test_set_x, test_set_y, 2000, 0.005)"
   ]
  },
  {
   "cell_type": "code",
   "execution_count": 149,
   "metadata": {},
   "outputs": [
    {
     "name": "stdout",
     "output_type": "stream",
     "text": [
      "This image is not a cat. You predicted it is a cat.\n"
     ]
    },
    {
     "data": {
      "image/png": "[encoded data removed]",
      "text/plain": [
       "<Figure size 432x288 with 1 Axes>"
      ]
     },
     "metadata": {},
     "output_type": "display_data"
    }
   ],
   "source": [
    "#wrongly classified image\n",
    "index = 13\n",
    "\n",
    "plt.imshow(test_set_x[:, index].reshape((img_size, img_size, 3)))\n",
    "real_id = binary_to_cat(test_set_y[0, index])\n",
    "predicted_id = binary_to_cat(int(test_predicted_y[0, index]))\n",
    "print (\"This image is \" + real_id + \". You predicted it is \" + predicted_id + \".\")"
   ]
  },
  {
   "cell_type": "markdown",
   "metadata": {},
   "source": [
    "### 5. Conclusions and further analysis"
   ]
  },
  {
   "cell_type": "markdown",
   "metadata": {},
   "source": [
    "We can conclude that the model is working to a certain extent. The train set accuracy is over $99\\%$, while the test set accuracy is $70\\%$ (this is not too bad considering the limitations of logistic regression and the small size of the data set). We can further analyse the impact of changing the learning rate and the number of iterations."
   ]
  }
 ],
 "metadata": {
  "kernelspec": {
   "display_name": "Python 3",
   "language": "python",
   "name": "python3"
  },
  "language_info": {
   "codemirror_mode": {
    "name": "ipython",
    "version": 3
   },
   "file_extension": ".py",
   "mimetype": "text/x-python",
   "name": "python",
   "nbconvert_exporter": "python",
   "pygments_lexer": "ipython3",
   "version": "3.6.3"
  }
 },
 "nbformat": 4,
 "nbformat_minor": 2
}
